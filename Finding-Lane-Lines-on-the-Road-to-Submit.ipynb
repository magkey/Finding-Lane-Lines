{
 "cells": [
  {
   "cell_type": "markdown",
   "metadata": {},
   "source": [
    "# **Finding Lane Lines on the Road** \n",
    "***"
   ]
  },
  {
   "cell_type": "code",
   "execution_count": 1,
   "metadata": {
    "collapsed": true
   },
   "outputs": [],
   "source": [
    "#importing some useful packages\n",
    "import matplotlib.pyplot as plt\n",
    "import matplotlib.image as mpimg\n",
    "import numpy as np\n",
    "import cv2\n",
    "%matplotlib inline"
   ]
  },
  {
   "cell_type": "markdown",
   "metadata": {},
   "source": [
    "### Helper Functions\n",
    "The helper methods below are used in the final pipeline."
   ]
  },
  {
   "cell_type": "code",
   "execution_count": 2,
   "metadata": {
    "collapsed": false
   },
   "outputs": [],
   "source": [
    "def grayscale(img):\n",
    "    \"\"\"Applies the Grayscale transform\n",
    "    This will return an image with only one color channel\n",
    "    but NOTE: to see the returned image as grayscale\n",
    "    (assuming your grayscaled image is called 'gray')\n",
    "    you should call plt.imshow(gray, cmap='gray')\"\"\"\n",
    "    return cv2.cvtColor(img, cv2.COLOR_BGR2GRAY)\n",
    "    # Or use BGR2GRAY if you read an image with cv2.imread()\n",
    "    # return cv2.cvtColor(img, cv2.COLOR_BGR2GRAY)\n",
    "    \n",
    "def canny(img, low_threshold, high_threshold):\n",
    "    \"\"\"Applies the Canny transform\"\"\"\n",
    "    return cv2.Canny(img, low_threshold, high_threshold)\n",
    "\n",
    "def gaussian_blur(img, kernel_size):\n",
    "    \"\"\"Applies a Gaussian Noise kernel\"\"\"\n",
    "    return cv2.GaussianBlur(img, (kernel_size, kernel_size), 0)\n",
    "\n",
    "def region_of_interest(img, vertices):\n",
    "    \"\"\"\n",
    "    Applies an image mask.\n",
    "    \n",
    "    Only keeps the region of the image defined by the polygon\n",
    "    formed from `vertices`. The rest of the image is set to black.\n",
    "    \"\"\"\n",
    "    #defining a blank mask to start with\n",
    "    mask = np.zeros_like(img)   \n",
    "    \n",
    "    #defining a 3 channel or 1 channel color to fill the mask with depending on the input image\n",
    "    if len(img.shape) > 2:\n",
    "        channel_count = img.shape[2]  # i.e. 3 or 4 depending on your image\n",
    "        ignore_mask_color = (255,) * channel_count\n",
    "    else:\n",
    "        ignore_mask_color = 255\n",
    "        \n",
    "    #filling pixels inside the polygon defined by \"vertices\" with the fill color\n",
    "    cv2.fillPoly(mask, vertices, ignore_mask_color)\n",
    "    \n",
    "    #returning the image only where mask pixels are nonzero\n",
    "    masked_image = cv2.bitwise_and(img, mask)\n",
    "    return masked_image\n",
    "\n",
    "\n",
    "def draw_lines(img, lines, color=(255, 0, 0), thickness=7):\n",
    "    \"\"\"\n",
    "    NOTE: this is the function you might want to use as a starting point once you want to \n",
    "    average/extrapolate the line segments you detect to map out the full\n",
    "    extent of the lane (going from the result shown in raw-lines-example.mp4\n",
    "    to that shown in P1_example.mp4).  \n",
    "    \n",
    "    Think about things like separating line segments by their \n",
    "    slope ((y2-y1)/(x2-x1)) to decide which segments are part of the left\n",
    "    line vs. the right line.  Then, you can average the position of each of \n",
    "    the lines and extrapolate to the top and bottom of the lane.\n",
    "    \n",
    "    This function draws `lines` with `color` and `thickness`.    \n",
    "    Lines are drawn on the image inplace (mutates the image).\n",
    "    If you want to make the lines semi-transparent, think about combining\n",
    "    this function with the weighted_img() function below\n",
    "    \"\"\"\n",
    "    for line in lines:\n",
    "        for x1,y1,x2,y2 in line:\n",
    "            cv2.line(img, (x1, y1), (x2, y2), color, thickness)\n",
    "\n",
    "def hough_lines(img, rho, theta, threshold, min_line_len, max_line_gap):\n",
    "    \"\"\"\n",
    "    `img` should be the output of a Canny transform.\n",
    "        \n",
    "    Returns an image with hough lines drawn.\n",
    "    \"\"\"\n",
    "    lines = cv2.HoughLinesP(img, rho, theta, threshold, np.array([]), minLineLength=min_line_len, maxLineGap=max_line_gap)\n",
    "    line_img = np.zeros(img.shape, dtype=np.uint8)\n",
    "    draw_lines(line_img, lines)\n",
    "    return line_img\n",
    "\n",
    "# Python 3 has support for cool math symbols.\n",
    "\n",
    "def weighted_img(img, initial_img, α=0.8, β=1., λ=0.):\n",
    "    \"\"\"\n",
    "    `img` is the output of the hough_lines(), An image with lines drawn on it.\n",
    "    Should be a blank image (all black) with lines drawn on it.\n",
    "    \n",
    "    `initial_img` should be the image before any processing.\n",
    "    \n",
    "    The result image is computed as follows:\n",
    "    \n",
    "    initial_img * α + img * β + λ\n",
    "    NOTE: initial_img and img must be the same shape!\n",
    "    \"\"\"\n",
    "    return cv2.addWeighted(initial_img, α, img, β, λ)\n",
    "\n",
    "# Use this m = (Y2 - Y1) / (X2 - X1) equation to organize lines by their slope.\n",
    "\n",
    "def separate_lines(lines):\n",
    "    \"\"\" Use the array of hough lines and separates them by positive and negative slope.\n",
    "        The y-axis is inverted in matplotlib, so the calculated positive slopes will be right\n",
    "        lane lines and negative slopes will be left lanes. \"\"\"\n",
    "    right = []\n",
    "    left = []\n",
    "    for x1,y1,x2,y2 in lines[:, 0]:\n",
    "        m = (float(y2) - y1) / (x2 - x1)\n",
    "        if m >= 0: \n",
    "            right.append([x1,y1,x2,y2,m])\n",
    "        else:\n",
    "            left.append([x1,y1,x2,y2,m])\n",
    "    \n",
    "    return right, left\n",
    "\n",
    "def extrapolate(x1, y1, x2, y2, length):\n",
    "    \"\"\" Takes line endpoints and extroplates them by a specfic length\"\"\"\n",
    "    line_len = np.sqrt((x1 - x2)**2 + (y1 - y2)**2) \n",
    "    x = x2 + (x2 - x1) / line_len * length\n",
    "    y = y2 + (y2 - y1) / line_len * length\n",
    "    return x, y\n",
    "  \n",
    "def line_outliers(data, cutoff, thresh=0.08):\n",
    "    \"\"\"Line outliers should e removed. For example, flat lines or lines\n",
    "       deviate too much from the mean\"\"\"\n",
    "    data = np.array(data)\n",
    "    data = data[(data[:, 4] >= cutoff[0]) & (data[:, 4] <= cutoff[1])]\n",
    "    m = np.mean(data[:, 4], axis=0)\n",
    "    return data[(data[:, 4] <= m+thresh) & (data[:, 4] >= m-thresh)]\n",
    "\n",
    "def lines_mean(lines):\n",
    "    \"\"\"Mean of all Hough lines and extends them\"\"\"\n",
    "    \n",
    "    lines = np.array(lines)[:, :4] \n",
    "    \n",
    "    x1,y1,x2,y2 = np.mean(lines, axis=0)\n",
    "    x1e, y1e = extrapolate(x1,y1,x2,y2, -1000) \n",
    "    x2e, y2e = extrapolate(x1,y1,x2,y2, 1000)  \n",
    "    line = np.array([[x1e,y1e,x2e,y2e]])\n",
    "    \n",
    "    return np.array([line], dtype=np.int32)"
   ]
  },
  {
   "cell_type": "markdown",
   "metadata": {},
   "source": [
    "## Pipeline"
   ]
  },
  {
   "cell_type": "code",
   "execution_count": 3,
   "metadata": {
    "collapsed": true
   },
   "outputs": [],
   "source": [
    "def pipeline(image):  \n",
    "    # Params for region of interest\n",
    "    bot_left = [80, 540]\n",
    "    bot_right = [980, 540]\n",
    "    apex_right = [510, 315]\n",
    "    apex_left = [450, 315]\n",
    "    v = [np.array([bot_left, bot_right, apex_right, apex_left], dtype=np.int32)]\n",
    "    \n",
    "    # Gray scale, Gaussian smoothing, edge detection and mask region of interest\n",
    "    gray = grayscale(image)\n",
    "    blur = gaussian_blur(gray, 7)\n",
    "    edge = canny(blur, 50, 125)\n",
    "    mask = region_of_interest(edge, v)\n",
    "    \n",
    "    # Hough Lines and separate by postite and negative slope\n",
    "    lines = cv2.HoughLinesP(mask, 0.8, np.pi/180, 25, np.array([]), minLineLength=50, maxLineGap=200)\n",
    "\n",
    "    right_lines, left_lines = separate_lines(lines)\n",
    "    right = line_outliers(right_lines,  cutoff=(0.45, 0.75))\n",
    "    right = lines_mean(right)\n",
    "    \n",
    "    left = line_outliers(left_lines, cutoff=(-0.85, -0.6))\n",
    "    left = lines_mean(left)\n",
    "\n",
    "    lines = np.concatenate((right, left))\n",
    "    \n",
    "    # Draw lines\n",
    "    line_img = np.copy((image)*0)\n",
    "    draw_lines(line_img, lines, thickness=10)\n",
    "    \n",
    "    # Return final image \n",
    "    line_img = region_of_interest(line_img, v)\n",
    "    final = weighted_img(line_img, image)\n",
    "    \n",
    "\n",
    "    return final"
   ]
  },
  {
   "cell_type": "markdown",
   "metadata": {},
   "source": [
    "The pipeline plugged into MoviePy:"
   ]
  },
  {
   "cell_type": "code",
   "execution_count": 4,
   "metadata": {
    "collapsed": false
   },
   "outputs": [
    {
     "name": "stdout",
     "output_type": "stream",
     "text": [
      "[MoviePy] >>>> Building video final.mp4\n",
      "[MoviePy] Writing video final.mp4\n",
      "[MoviePy] Done.\n",
      "[MoviePy] >>>> Video ready: final.mp4 \n",
      "\n",
      "CPU times: user 2.8 s, sys: 678 ms, total: 3.47 s\n",
      "Wall time: 3.27 s\n"
     ]
    }
   ],
   "source": [
    "# Import everything needed to edit/save/watch video clips\n",
    "from moviepy.editor import VideoFileClip, ImageClip\n",
    "from IPython.display import HTML\n",
    "\n",
    "def process_image(image):\n",
    "    # NOTE: The output you return should be a color image (3 channel) for processing video below\n",
    "    # TODO: put your pipeline here,\n",
    "    # you should return the final output (image with lines are drawn on lanes)\n",
    "\n",
    "    result = pipeline(image)\n",
    "    return result\n",
    "\n",
    "white_output = 'final.mp4'\n",
    "clip1 = VideoFileClip(\"solidWhiteRight.mp4\")\n",
    "white_clip = clip1.fl_image(process_image) #NOTE: this function expects color images!!\n",
    "%time white_clip.write_videofile(white_output, audio=False)"
   ]
  },
  {
   "cell_type": "markdown",
   "metadata": {},
   "source": [
    "Play the video inline, or if you prefer find the video in your filesystem (should be in the same directory) and play it in your video player of choice."
   ]
  },
  {
   "cell_type": "code",
   "execution_count": 5,
   "metadata": {
    "collapsed": false
   },
   "outputs": [
    {
     "data": {
      "text/html": [
       "\n",
       "<video width=\"960\" height=\"540\" controls>\n",
       "  <source src=\"final.mp4\">\n",
       "</video>\n"
      ],
      "text/plain": [
       "<IPython.core.display.HTML object>"
      ]
     },
     "execution_count": 5,
     "metadata": {},
     "output_type": "execute_result"
    }
   ],
   "source": [
    "HTML(\"\"\"\n",
    "<video width=\"960\" height=\"540\" controls>\n",
    "  <source src=\"{0}\">\n",
    "</video>\n",
    "\"\"\".format(white_output))"
   ]
  },
  {
   "cell_type": "markdown",
   "metadata": {},
   "source": [
    "**At this point, if you were successful you probably have the Hough line segments drawn onto the road, but what about identifying the full extent of the lane and marking it clearly as in the example video (P1_example.mp4)?  Think about defining a line to run the full length of the visible lane based on the line segments you identified with the Hough Transform.  Modify your draw_lines function accordingly and try re-running your pipeline.**"
   ]
  },
  {
   "cell_type": "markdown",
   "metadata": {},
   "source": [
    "Now for the one with the solid yellow lane on the left. This one's more tricky!"
   ]
  },
  {
   "cell_type": "code",
   "execution_count": 6,
   "metadata": {
    "collapsed": false
   },
   "outputs": [
    {
     "name": "stdout",
     "output_type": "stream",
     "text": [
      "[MoviePy] >>>> Building video yellow.mp4\n",
      "[MoviePy] Writing video yellow.mp4\n",
      "[MoviePy] Done.\n",
      "[MoviePy] >>>> Video ready: yellow.mp4 \n",
      "\n",
      "CPU times: user 8.98 s, sys: 1.97 s, total: 10.9 s\n",
      "Wall time: 9.67 s\n"
     ]
    }
   ],
   "source": [
    "yellow_output = 'yellow.mp4'\n",
    "clip2 = VideoFileClip('solidYellowLeft.mp4')\n",
    "yellow_clip = clip2.fl_image(process_image)\n",
    "%time yellow_clip.write_videofile(yellow_output, audio=False)"
   ]
  },
  {
   "cell_type": "code",
   "execution_count": 7,
   "metadata": {
    "collapsed": false
   },
   "outputs": [
    {
     "data": {
      "text/html": [
       "\n",
       "<video width=\"960\" height=\"540\" controls>\n",
       "  <source src=\"yellow.mp4\">\n",
       "</video>\n"
      ],
      "text/plain": [
       "<IPython.core.display.HTML object>"
      ]
     },
     "execution_count": 7,
     "metadata": {},
     "output_type": "execute_result"
    }
   ],
   "source": [
    "HTML(\"\"\"\n",
    "<video width=\"960\" height=\"540\" controls>\n",
    "  <source src=\"{0}\">\n",
    "</video>\n",
    "\"\"\".format(yellow_output))"
   ]
  },
  {
   "cell_type": "markdown",
   "metadata": {},
   "source": [
    "## Optional Challenge"
   ]
  },
  {
   "cell_type": "code",
   "execution_count": 8,
   "metadata": {
    "collapsed": false
   },
   "outputs": [
    {
     "name": "stdout",
     "output_type": "stream",
     "text": [
      "[MoviePy] >>>> Building video extra.mp4\n",
      "[MoviePy] Writing video extra.mp4\n",
      "[MoviePy] Done.\n",
      "[MoviePy] >>>> Video ready: extra.mp4 \n",
      "\n",
      "CPU times: user 6.59 s, sys: 1.46 s, total: 8.05 s\n",
      "Wall time: 8.35 s\n"
     ]
    }
   ],
   "source": [
    "challenge_output = 'extra.mp4'\n",
    "clip2 = VideoFileClip('challenge.mp4')\n",
    "challenge_clip = clip2.fl_image(process_image)\n",
    "%time challenge_clip.write_videofile(challenge_output, audio=False)"
   ]
  },
  {
   "cell_type": "code",
   "execution_count": 9,
   "metadata": {
    "collapsed": false
   },
   "outputs": [
    {
     "data": {
      "text/html": [
       "\n",
       "<video width=\"960\" height=\"540\" controls>\n",
       "  <source src=\"extra.mp4\">\n",
       "</video>\n"
      ],
      "text/plain": [
       "<IPython.core.display.HTML object>"
      ]
     },
     "execution_count": 9,
     "metadata": {},
     "output_type": "execute_result"
    }
   ],
   "source": [
    "HTML(\"\"\"\n",
    "<video width=\"960\" height=\"540\" controls>\n",
    "  <source src=\"{0}\">\n",
    "</video>\n",
    "\"\"\".format(challenge_output))"
   ]
  },
  {
   "cell_type": "markdown",
   "metadata": {},
   "source": [
    "In order to make the algorithm more robust use a a color mask that will highlights the whites and yellows in the frame. "
   ]
  },
  {
   "cell_type": "code",
   "execution_count": 10,
   "metadata": {
    "collapsed": true
   },
   "outputs": [],
   "source": [
    "def merge_prev(line, prev):\n",
    "    \"\"\" Extra Challenge: Reduces jitter and missed lines by averaging previous \n",
    "        frame line with current frame line. \"\"\"\n",
    "    if prev != None:\n",
    "        line = np.concatenate((line[0], prev[0]))\n",
    "        x1,y1,x2,y2 = np.mean(line, axis=0)\n",
    "        line = np.array([[[x1,y1,x2,y2]]], dtype=np.int32)\n",
    "        return line\n",
    "    else: \n",
    "        return line"
   ]
  },
  {
   "cell_type": "markdown",
   "metadata": {},
   "source": [
    "Adding a global variable for the line from the prior frame. In this will be averaged with the current frame to  prevent jitterying on the video footage.\n",
    "\n",
    "## Final version of the pypeline for the optional challenge:"
   ]
  },
  {
   "cell_type": "code",
   "execution_count": 11,
   "metadata": {
    "collapsed": false
   },
   "outputs": [],
   "source": [
    "global right_prev\n",
    "global left_prev\n",
    "right_prev = None\n",
    "left_prev = None\n",
    "\n",
    "def pipeline(image, preview=False):\n",
    "    global right_prev\n",
    "    global left_prev\n",
    "    bot_left = [250, 660]\n",
    "    bot_right = [1100, 660]\n",
    "    apex_right = [725, 440]\n",
    "    apex_left = [580, 440]\n",
    "    v = [np.array([bot_left, bot_right, apex_right, apex_left], dtype=np.int32)]\n",
    "    \n",
    "    ### Added a color mask to deal with shaded region\n",
    "    color_low = np.array([187,187,0])\n",
    "    color_high = np.array([255,255,255])\n",
    "    color_mask = cv2.inRange(image, color_low, color_high)\n",
    "    \n",
    "    gray = grayscale(image)\n",
    "    blur = gaussian_blur(gray, 3)\n",
    "    blur = weighted_img(blur, color_mask)\n",
    "\n",
    "    edge = cv2.Canny(blur, 100, 300)\n",
    "    mask = region_of_interest(edge, v)\n",
    "\n",
    "    lines = cv2.HoughLinesP(mask, 0.5, np.pi/180, 10, np.array([]), minLineLength=90, maxLineGap=200)\n",
    "\n",
    "    right_lines, left_lines = separate_lines(lines)\n",
    "\n",
    "    right = line_outliers(right_lines, cutoff=(0.45, 0.75))\n",
    "    right = lines_mean(right)\n",
    "    right = merge_prev(right, right_prev)\n",
    "    right_prev = right\n",
    "\n",
    "    left = line_outliers(left_lines, cutoff=(-1.1, -0.2))\n",
    "    left = lines_mean(left)\n",
    "    left = merge_prev(left, left_prev)\n",
    "    left_prev = left\n",
    "    \n",
    "    lines = np.concatenate((right, left))\n",
    "    line_img = np.copy((image)*0)\n",
    "    draw_lines(line_img, lines, thickness=10)\n",
    "    \n",
    "    line_img = region_of_interest(line_img, v)\n",
    "    final = weighted_img(line_img, image)\n",
    "    \n",
    "    return final"
   ]
  },
  {
   "cell_type": "code",
   "execution_count": 12,
   "metadata": {
    "collapsed": false
   },
   "outputs": [
    {
     "name": "stdout",
     "output_type": "stream",
     "text": [
      "[MoviePy] >>>> Building video extra_final.mp4\n",
      "[MoviePy] Writing video extra_final.mp4\n",
      "[MoviePy] Done.\n",
      "[MoviePy] >>>> Video ready: extra_final.mp4 \n",
      "\n",
      "CPU times: user 5.74 s, sys: 1.51 s, total: 7.25 s\n",
      "Wall time: 7.65 s\n"
     ]
    }
   ],
   "source": [
    "challenge_output = 'extra_final.mp4'\n",
    "clip2 = VideoFileClip('challenge.mp4')\n",
    "challenge_clip = clip2.fl_image(process_image)\n",
    "%time challenge_clip.write_videofile(challenge_output, audio=False)"
   ]
  },
  {
   "cell_type": "code",
   "execution_count": 13,
   "metadata": {
    "collapsed": false
   },
   "outputs": [
    {
     "data": {
      "text/html": [
       "\n",
       "<video width=\"960\" height=\"540\" controls>\n",
       "  <source src=\"extra_final.mp4\">\n",
       "</video>\n"
      ],
      "text/plain": [
       "<IPython.core.display.HTML object>"
      ]
     },
     "execution_count": 13,
     "metadata": {},
     "output_type": "execute_result"
    }
   ],
   "source": [
    "HTML(\"\"\"\n",
    "<video width=\"960\" height=\"540\" controls>\n",
    "  <source src=\"{0}\">\n",
    "</video>\n",
    "\"\"\".format(challenge_output))"
   ]
  },
  {
   "cell_type": "code",
   "execution_count": null,
   "metadata": {
    "collapsed": true
   },
   "outputs": [],
   "source": []
  }
 ],
 "metadata": {
  "anaconda-cloud": {},
  "kernelspec": {
   "display_name": "Python [py3k]",
   "language": "python",
   "name": "Python [py3k]"
  },
  "language_info": {
   "codemirror_mode": {
    "name": "ipython",
    "version": 3
   },
   "file_extension": ".py",
   "mimetype": "text/x-python",
   "name": "python",
   "nbconvert_exporter": "python",
   "pygments_lexer": "ipython3",
   "version": "3.5.2"
  }
 },
 "nbformat": 4,
 "nbformat_minor": 0
}
